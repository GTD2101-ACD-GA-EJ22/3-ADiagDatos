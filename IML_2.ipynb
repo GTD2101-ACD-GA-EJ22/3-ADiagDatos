{
  "nbformat": 4,
  "nbformat_minor": 0,
  "metadata": {
    "colab": {
      "name": "IML-2.ipynb",
      "provenance": [],
      "authorship_tag": "ABX9TyO23XsaaaqHcb8ANrWru0Ez",
      "include_colab_link": true
    },
    "kernelspec": {
      "name": "python3",
      "display_name": "Python 3"
    },
    "language_info": {
      "name": "python"
    }
  },
  "cells": [
    {
      "cell_type": "markdown",
      "metadata": {
        "id": "view-in-github",
        "colab_type": "text"
      },
      "source": [
        "<a href=\"https://colab.research.google.com/github/GTD2101-ACD-GA-EJ22/3-APredDatos/blob/main/IML_2.ipynb\" target=\"_parent\"><img src=\"https://colab.research.google.com/assets/colab-badge.svg\" alt=\"Open In Colab\"/></a>"
      ]
    },
    {
      "cell_type": "markdown",
      "source": [
        "# Machine Learning Intermedio\n",
        "\n",
        "A continuación se revisarán diversos tópicos intermedios de ML."
      ],
      "metadata": {
        "id": "atJwJt-Rp_RF"
      }
    },
    {
      "cell_type": "code",
      "execution_count": null,
      "metadata": {
        "id": "ZesR9Vc4p6Jf"
      },
      "outputs": [],
      "source": [
        "import pandas as pd"
      ]
    }
  ]
}